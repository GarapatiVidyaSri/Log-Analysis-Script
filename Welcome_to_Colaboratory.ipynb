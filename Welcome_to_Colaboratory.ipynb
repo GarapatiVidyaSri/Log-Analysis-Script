{
  "cells": [
    {
      "cell_type": "markdown",
      "metadata": {
        "id": "view-in-github",
        "colab_type": "text"
      },
      "source": [
        "<a href=\"https://colab.research.google.com/github/GarapatiVidyaSri/Log-Analysis-Script/blob/main/Welcome_to_Colaboratory.ipynb\" target=\"_parent\"><img src=\"https://colab.research.google.com/assets/colab-badge.svg\" alt=\"Open In Colab\"/></a>"
      ]
    },
    {
      "cell_type": "markdown",
      "source": [
        "**Log Analysis Script**\n"
      ],
      "metadata": {
        "id": "CPz9CnUuR97v"
      }
    },
    {
      "cell_type": "markdown",
      "source": [],
      "metadata": {
        "id": "FFnBuZyOXzVz"
      }
    },
    {
      "cell_type": "code",
      "source": [
        "import re\n",
        "from collections import Counter, defaultdict\n",
        "import csv\n",
        "\n",
        "# Function to parse the log file\n",
        "def parse_log_file(file_path):\n",
        "    with open(file_path, 'r') as file:\n",
        "        logs = file.readlines()\n",
        "    return logs\n",
        "\n",
        "# Function to count requests per IP address\n",
        "def count_requests_per_ip(logs):\n",
        "    ip_counter = Counter()\n",
        "    ip_pattern = re.compile(r'^(\\S+)')\n",
        "    for log in logs:\n",
        "        match = ip_pattern.match(log)\n",
        "        if match:\n",
        "            ip_counter[match.group(1)] += 1\n",
        "    return ip_counter\n",
        "\n",
        "# Function to identify the most frequently accessed endpoint\n",
        "def most_accessed_endpoint(logs):\n",
        "    endpoint_counter = Counter()\n",
        "    endpoint_pattern = re.compile(r'\\\"\\w+ (\\S+) HTTP')\n",
        "    for log in logs:\n",
        "        match = endpoint_pattern.search(log)\n",
        "        if match:\n",
        "            endpoint_counter[match.group(1)] += 1\n",
        "    most_common = endpoint_counter.most_common(1)\n",
        "    return most_common[0] if most_common else None\n",
        "\n",
        "# Function to detect suspicious activity (failed login attempts)\n",
        "def detect_suspicious_activity(logs, threshold=5):\n",
        "    failed_login_counter = Counter()\n",
        "    failed_login_pattern = re.compile(r'(\\S+).+\\\"POST.+401')\n",
        "    for log in logs:\n",
        "        match = failed_login_pattern.search(log)\n",
        "        if match:\n",
        "            failed_login_counter[match.group(1)] += 1\n",
        "    return {ip: count for ip, count in failed_login_counter.items() if count > threshold}\n",
        "\n",
        "# Function to write results to a CSV file\n",
        "def write_to_csv(file_name, ip_requests, most_endpoint, suspicious_activity):\n",
        "    with open(file_name, 'w', newline='') as csvfile:\n",
        "        writer = csv.writer(csvfile)\n",
        "\n",
        "        # Wrrite Requests per IP\n",
        "        writer.writerow(['IP Address', 'Request Count'])\n",
        "        for ip, count in ip_requests.items():\n",
        "            writer.writerow([ip, count])\n",
        "\n",
        "        # Write Most Accessed Endpoint\n",
        "        writer.writerow([])  # Empty line for separation\n",
        "        writer.writerow(['Endpoint', 'Access Count'])\n",
        "        if most_endpoint:\n",
        "            writer.writerow([most_endpoint[0], most_endpoint[1]])\n",
        "\n",
        "        # Write Suspicious Activity\n",
        "        writer.writerow([])  # Empty line for separation\n",
        "        writer.writerow(['IP Address', 'Failed Login Count'])\n",
        "        for ip, count in suspicious_activity.items():\n",
        "            writer.writerow([ip, count])\n",
        "\n",
        "# Main function\n",
        "def main():\n",
        "    log_file = 'sample.log'\n",
        "    logs = parse_log_file(log_file)\n",
        "\n",
        "    # Analyze logs\n",
        "    ip_requests = count_requests_per_ip(logs)\n",
        "    most_endpoint = most_accessed_endpoint(logs)\n",
        "    suspicious_activity = detect_suspicious_activity(logs)\n",
        "\n",
        "    # Display results\n",
        "    print(\"IP Address\\t\\tRequest Count\")\n",
        "    for ip, count in ip_requests.most_common():\n",
        "        print(f\"{ip}\\t\\t{count}\")\n",
        "\n",
        "    print(\"\\nMost Accessed Endpoint:\")\n",
        "    if most_endpoint:\n",
        "        print(f\"Endpoint: {most_endpoint[0]}, Access Count: {most_endpoint[1]}\")\n",
        "    else:\n",
        "        print(\"No endpoints found.\")\n",
        "\n",
        "    print(\"\\nSuspicious Activity Detected:\")\n",
        "    if suspicious_activity:\n",
        "        print(\"IP Address\\t\\tFailed Login Attempts\")\n",
        "        for ip, count in suspicious_activity.items():\n",
        "            print(f\"{ip}\\t\\t{count}\")\n",
        "    else:\n",
        "        print(\"No suspicious activity detected.\")\n",
        "\n",
        "    # Write results to CSV\n",
        "    write_to_csv('log_analysis_results.csv', ip_requests, most_endpoint, suspicious_activity)\n",
        "\n",
        "if __name__ == '__main__':\n",
        "    main()\n"
      ],
      "metadata": {
        "id": "ObNdxL_pSR5Z",
        "outputId": "01928218-6c05-4ba5-a6e1-c3fec6589b87",
        "colab": {
          "base_uri": "https://localhost:8080/"
        }
      },
      "execution_count": 12,
      "outputs": [
        {
          "output_type": "stream",
          "name": "stdout",
          "text": [
            "IP Address\t\tRequest Count\n",
            "203.0.113.5\t\t8\n",
            "198.51.100.23\t\t8\n",
            "192.168.1.1\t\t7\n",
            "10.0.0.2\t\t6\n",
            "192.168.1.100\t\t5\n",
            "\n",
            "Most Accessed Endpoint:\n",
            "Endpoint: /login, Access Count: 13\n",
            "\n",
            "Suspicious Activity Detected:\n",
            "IP Address\t\tFailed Login Attempts\n",
            "203.0.113.5\t\t8\n"
          ]
        }
      ]
    }
  ],
  "metadata": {
    "colab": {
      "name": "Welcome to Colaboratory",
      "provenance": [],
      "include_colab_link": true
    },
    "kernelspec": {
      "display_name": "Python 3",
      "name": "python3"
    }
  },
  "nbformat": 4,
  "nbformat_minor": 0
}